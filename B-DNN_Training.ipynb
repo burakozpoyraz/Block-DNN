{
 "cells": [
  {
   "cell_type": "markdown",
   "metadata": {
    "id": "Auk-JYdPhiZa"
   },
   "source": [
    "# ***Block Deep Neural Network-Based Signal Detector for Generalized Spatial Modulation (Training)***"
   ]
  },
  {
   "cell_type": "markdown",
   "metadata": {
    "id": "MNZ76w3vetEE"
   },
   "source": [
    "This code is the training of the model studied in the paper \"Block Deep Neural Network-Based Signal Detector for Generalized Spatial Modulation\"."
   ]
  },
  {
   "cell_type": "markdown",
   "metadata": {
    "id": "b5ASyoSgiFsm"
   },
   "source": [
    "***Libraries***"
   ]
  },
  {
   "cell_type": "code",
   "execution_count": null,
   "metadata": {
    "id": "5Z5vzTOHhzDD"
   },
   "outputs": [],
   "source": [
    "from tensorflow import keras\n",
    "from tensorflow.keras.layers import  Dense, BatchNormalization\n",
    "from tensorflow.keras.optimizers import SGD\n",
    "from tensorflow.keras.metrics import Accuracy\n",
    "import numpy as np\n",
    "import WirelessCommLib as wcl\n",
    "import time"
   ]
  },
  {
   "cell_type": "markdown",
   "metadata": {
    "id": "pcYHQ-bBiMG8"
   },
   "source": [
    "***Functions***"
   ]
  },
  {
   "cell_type": "code",
   "execution_count": null,
   "metadata": {
    "id": "AYl9InPCiP85"
   },
   "outputs": [],
   "source": [
    "# =====================================================================================================\n",
    "# 1. Deep Learning Model\n",
    "#\n",
    "# ARGUMENTS\n",
    "# 1-) n_x: Number of input nodes (Data Type: int)\n",
    "# 2-) n_y: Number of output nodes (Data Type: int)\n",
    "# 3-) n_h_list: List of the number of nodes of each hidden layer (Data Type: numpy.ndarray or list | \n",
    "# Shape: (3,))\n",
    "# 4-) Np: Number of active transmit antennas (Data Type: int)\n",
    "#\n",
    "# OUTPUT\n",
    "# - model: Deep learning model (Data Type: tensorflow.python.keras.engine.functional.Functional)\n",
    "# =====================================================================================================\n",
    "def Model(n_x, n_y, n_h_list, Np):\n",
    "    num_hidden_layers = len(n_h_list)\n",
    "    input_layer = keras.Input(shape=(n_x,), name=\"Input Layer\")\n",
    "    model_outputs = []\n",
    "    model_losses = []\n",
    "    model_metrics = []\n",
    "    for active_antenna_index in range(Np):\n",
    "        n_h1 = n_h_list[0]\n",
    "\n",
    "        dense_layer_name = \"Dense_AAI\" + str(active_antenna_index + 1) + \"_HLI\" + str(1)\n",
    "        hidden_layer = Dense(n_h1, kernel_regularizer=keras.regularizers.l2(l=0.001), activation=\"relu\", name=dense_layer_name)(input_layer)\n",
    "\n",
    "        bn_layer_name = \"BatchNormalization_AAI\" + str(active_antenna_index + 1) + \"_HLI\" + str(1)\n",
    "        hidden_layer = BatchNormalization(name=bn_layer_name)(hidden_layer)\n",
    "\n",
    "        for hidden_layer_index in range(1, num_hidden_layers):\n",
    "            n_h = n_h_list[hidden_layer_index]\n",
    "\n",
    "            dense_layer_name = \"Dense_AAI\" + str(active_antenna_index + 1) + \"_HLI\" + str(hidden_layer_index + 1)\n",
    "            hidden_layer = Dense(n_h, kernel_regularizer=keras.regularizers.l2(l=0.001), activation=\"relu\", name=dense_layer_name)(hidden_layer)\n",
    "\n",
    "            bn_layer_name = \"BatchNormalization_AAI\" + str(active_antenna_index + 1) + \"_HLI\" + str(hidden_layer_index + 1)\n",
    "            hidden_layer = BatchNormalization(name=bn_layer_name)(hidden_layer)\n",
    "\n",
    "        output_layer_name = \"Output_AAI\" + str(active_antenna_index + 1)\n",
    "        output_layer = Dense(n_y, kernel_regularizer=keras.regularizers.l2(l=0.001), activation=\"softmax\", name=output_layer_name)(hidden_layer)\n",
    "\n",
    "        model_outputs.append(output_layer)\n",
    "        model_losses.append(\"categorical_crossentropy\")\n",
    "\n",
    "        metric_name = \"Accuracy\" + str(active_antenna_index + 1)\n",
    "        model_metrics.append(Accuracy(name=metric_name))\n",
    "\n",
    "    model = keras.Model(inputs=input_layer, outputs=model_outputs, name=\"B_DNN_Model\")\n",
    "\n",
    "    SGD_optimizer = SGD(lr=0.005, nesterov=True)\n",
    "    model.compile(optimizer=SGD_optimizer, loss=model_losses, metrics=model_metrics)\n",
    "    return model\n",
    "# =====================================================================================================\n",
    "\n",
    "\n",
    "# =====================================================================================================\n",
    "# 2. Number Of Nodes In Each Hidden Layer\n",
    "#\n",
    "# ARGUMENT\n",
    "# - M: Constellation size (Data Type: int | Condition: Power of 2)\n",
    "#\n",
    "# OUTPUT\n",
    "# n_h_list: List of the number of nodes of each hidden layer (Data Type: numpy.ndarray or list | Shape:\n",
    "# (3,))\n",
    "# =====================================================================================================\n",
    "def HiddenLayerNodes(M):\n",
    "    if M == 2:\n",
    "        n_h_list = [128, 64, 32]\n",
    "    elif M == 4:\n",
    "        n_h_list = [256, 128, 64]\n",
    "    elif M == 16:\n",
    "        n_h_list = [512, 256, 128]\n",
    "    return n_h_list\n",
    "# ====================================================================================================="
   ]
  },
  {
   "cell_type": "markdown",
   "metadata": {
    "id": "BnXSzRsFkNAB"
   },
   "source": [
    "***GSM Parameters***"
   ]
  },
  {
   "cell_type": "code",
   "execution_count": null,
   "metadata": {
    "id": "T4o0XUNpkU3x"
   },
   "outputs": [],
   "source": [
    "Ns = 15000000 # Number of training time slots\n",
    "Nt = 2 # Number of transmit antennas\n",
    "\n",
    "fig_name = \"3a\"\n",
    "if fig_name == \"3a\":\n",
    "    Np = 2 # Number of active transmit antennas\n",
    "    Nr = 2 # Number of receive antennas\n",
    "    M = 4 # Constellation size\n",
    "    mod_type = \"PSK\" # Modulation type\n",
    "    FVG_type = \"SFVG\"\n",
    "elif fig_name == \"3b\":\n",
    "    Np = 2\n",
    "    Nr = 4\n",
    "    M = 4\n",
    "    mod_type = \"PSK\"\n",
    "    FVG_type = \"SFVG\"\n",
    "elif fig_name == \"3c\":\n",
    "    Np = 2\n",
    "    Nr = 64\n",
    "    M = 4\n",
    "    mod_type = \"PSK\"\n",
    "    FVG_type = \"SFVG\"\n",
    "elif fig_name == \"4a-S\":\n",
    "    Np = 2\n",
    "    Nr = 2\n",
    "    M = 2\n",
    "    mod_type = \"PSK\"\n",
    "    FVG_type = \"SFVG\"\n",
    "elif fig_name == \"4a-J\":\n",
    "    Np = 2\n",
    "    Nr = 2\n",
    "    M = 2\n",
    "    mod_type = \"PSK\"\n",
    "    FVG_type = \"JFVG\"\n",
    "elif fig_name == \"4a-C\":\n",
    "    Np = 2\n",
    "    Nr = 2\n",
    "    M = 2\n",
    "    mod_type = \"PSK\"\n",
    "    FVG_type = \"CFVG\"\n",
    "elif fig_name == \"4b-2\":\n",
    "    Np = 2\n",
    "    Nr = 2\n",
    "    M = 2\n",
    "    mod_type = \"PSK\"\n",
    "    FVG_type = \"SFVG\"\n",
    "elif fig_name == \"4b-4\":\n",
    "    Np = 2\n",
    "    Nr = 2\n",
    "    M = 4\n",
    "    mod_type = \"PSK\"\n",
    "    FVG_type = \"SFVG\"\n",
    "elif fig_name == \"4b-16\":\n",
    "    Np = 2\n",
    "    Nr = 2\n",
    "    M = 16\n",
    "    mod_type = \"QAM\"\n",
    "    FVG_type = \"SFVG\"\n",
    "else: # Enter your own parameters\n",
    "    Np = 2\n",
    "    Nr = 2\n",
    "    M = 2\n",
    "    mod_type = \"PSK\"\n",
    "    FVG_type = \"SFVG\"\n",
    "\n",
    "N_tot = wcl.Combination(Nt, Np) # Number of total transmit antenna combinations (TACs)\n",
    "\n",
    "ns = int(np.floor(np.log2(N_tot))) # Number of spatial bits transmitted during a time-slot\n",
    "m = int(np.log2(M)) # Number of information bits transmitted from a single active antenna during a time-slot\n",
    "ni = Np * m # Number of total information bits transmitted during a time-slot\n",
    "n_tot = ns + ni # Number of total bits transmitted during a time-slot\n",
    "N = 2 ** ns # Number of illegitimate TACs\n",
    "\n",
    "is_normalized = True\n",
    "ss = wcl.Constellation(M, mod_type, is_normalized) # Signal set\n",
    "TAC_set = wcl.OptimalTAC_Set(Nt, Np, N) # Optimal TAC set"
   ]
  },
  {
   "cell_type": "markdown",
   "metadata": {
    "id": "5PrCJvxxkdRv"
   },
   "source": [
    "***Data Preprocessing***"
   ]
  },
  {
   "cell_type": "markdown",
   "metadata": {
    "id": "gVvsN_VMkidT"
   },
   "source": [
    "Input Data"
   ]
  },
  {
   "cell_type": "code",
   "execution_count": null,
   "metadata": {
    "id": "aDi6O1NYkjv9"
   },
   "outputs": [],
   "source": [
    "bit_matrix = np.random.randint(2, size=(n_tot, Ns))\n",
    "if FVG_type == \"SFVG\":\n",
    "    train_input_data = np.zeros((Ns, 2 * Nr + 2 * Nr * Np))\n",
    "elif FVG_type == \"JFVG\":\n",
    "    train_input_data = np.zeros((Ns, 1 + Np * Np))\n",
    "elif FVG_type == \"CFVG\":\n",
    "    train_input_data = np.zeros((Ns, Nr + Nr * Np))\n",
    "    \n",
    "for j in range(Ns):\n",
    "    bit_array = bit_matrix[:, j]\n",
    "    x = wcl.EncodeBits(bit_array, ss, TAC_set, ns, m, Nt, Np) # Transmitted vector\n",
    "    H = wcl.Channel([Nr, Nt]) # Rayleigh fading channel\n",
    "    y = np.matmul(H, x) # Received signal vector\n",
    "    train_input_data[j, :] = np.concatenate((wcl.FVG(y, FVG_type), wcl.FVG(H, FVG_type)))[:, 0]"
   ]
  },
  {
   "cell_type": "markdown",
   "metadata": {
    "id": "hNNf-iQLkpWo"
   },
   "source": [
    "Output Data"
   ]
  },
  {
   "cell_type": "code",
   "execution_count": null,
   "metadata": {
    "id": "TpB_njTakovK"
   },
   "outputs": [],
   "source": [
    "train_output_data = []\n",
    "for active_antenna_index in range(Np):\n",
    "    current_active_antenna_labels = np.zeros((Ns, M))\n",
    "    for j in range(Ns):\n",
    "        start_bit_index = ns + active_antenna_index * m\n",
    "        stop_bit_index = ns + (active_antenna_index + 1) * m\n",
    "        current_time_slot_bits = bit_matrix[start_bit_index : stop_bit_index, j]\n",
    "        current_active_antenna_labels[j, wcl.Bin2Dec(current_time_slot_bits)] = 1\n",
    "    train_output_data.append(current_active_antenna_labels)"
   ]
  },
  {
   "cell_type": "markdown",
   "metadata": {
    "id": "E5shoez_ksg2"
   },
   "source": [
    "***Deep Learning Model***"
   ]
  },
  {
   "cell_type": "code",
   "execution_count": null,
   "metadata": {
    "id": "b9H9Ai__kurc"
   },
   "outputs": [],
   "source": [
    "if FVG_type == \"SFVG\":\n",
    "    n_x = 2 * Nr + 2 * Nr * Np\n",
    "elif FVG_type == \"JFVG\":\n",
    "    n_x = 1 + Np * Np\n",
    "elif FVG_type == \"CFVG\":\n",
    "    n_x = Nr + Nr * Np\n",
    "n_y = M\n",
    "n_h_list = HiddenLayerNodes(M)\n",
    "B_DNN_model = Model(n_x, n_y, n_h_list, Np)\n",
    "B_DNN_model.summary()"
   ]
  },
  {
   "cell_type": "markdown",
   "metadata": {
    "id": "JAqCWzKAkxCE"
   },
   "source": [
    "***Training The Model***"
   ]
  },
  {
   "cell_type": "code",
   "execution_count": null,
   "metadata": {
    "id": "jFRcrll2k1UW"
   },
   "outputs": [],
   "source": [
    "start_time = time.time()\n",
    "B_DNN_model.fit(train_input_data, train_output_data, validation_split=0.25, batch_size=512, epochs=50, shuffle=True)\n",
    "finish_time = time.time()\n",
    "training_duration = finish_time - start_time\n",
    "print(\"Training Time: \", training_duration, \" seconds\")\n",
    "\n",
    "# Enter the path of the \"Block-DNN\" folder in order to save the model\n",
    "B_DNN_folder_path = \"\"\n",
    "file_path = B_DNN_folder_path + \"/Trained Models\"\n",
    "model_name = \"/B_DNN_model_Np\" + str(Np) + \"_Nr\" + str(Nr) + \"_M\" + str(M) + mod_type + \"_\" + FVG_type + \".h5\"\n",
    "B_DNN_model.save(file_path + model_name)"
   ]
  }
 ],
 "metadata": {
  "colab": {
   "collapsed_sections": [],
   "name": "B-DNN_Training.ipynb",
   "provenance": [],
   "toc_visible": true
  },
  "kernelspec": {
   "display_name": "Python 3",
   "language": "python",
   "name": "python3"
  },
  "language_info": {
   "codemirror_mode": {
    "name": "ipython",
    "version": 3
   },
   "file_extension": ".py",
   "mimetype": "text/x-python",
   "name": "python",
   "nbconvert_exporter": "python",
   "pygments_lexer": "ipython3",
   "version": "3.7.4"
  }
 },
 "nbformat": 4,
 "nbformat_minor": 1
}
